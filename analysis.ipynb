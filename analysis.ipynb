{
 "cells": [
  {
   "cell_type": "markdown",
   "metadata": {},
   "source": [
    "### Imports"
   ]
  },
  {
   "cell_type": "code",
   "execution_count": 1,
   "metadata": {},
   "outputs": [],
   "source": [
    "import os\n",
    "import numpy as np\n",
    "import scipy as sp\n",
    "import matplotlib as mpl\n",
    "import matplotlib.pyplot as plt\n",
    "\n",
    "from utils import plot_top_2_eigenvectors, plot_power\n",
    "\n",
    "from cycler import cycler\n",
    "from scipy.sparse.linalg import eigsh\n",
    "\n",
    "from ann import compute_mlp_activations, compute_margin\n",
    "from utils import sorted_spectral_decomp, plot_3d_projected_response, plot_top_2_eigenvectors, plot_power"
   ]
  },
  {
   "cell_type": "markdown",
   "metadata": {},
   "source": [
    "### Initialization\n",
    "\n",
    "Initialization based on [Pehlevan et al](https://github.com/Pehlevan-Group/sample_efficient_pop_codes)."
   ]
  },
  {
   "cell_type": "code",
   "execution_count": 2,
   "metadata": {},
   "outputs": [],
   "source": [
    "mpl.rcParams['axes.prop_cycle'] = cycler(color='bgrcmyk')\n",
    "\n",
    "fig_dir = 'figures/'\n",
    "\n",
    "if not os.path.exists(fig_dir):\n",
    "    os.makedirs(fig_dir)\n",
    "\n",
    "\n",
    "root = 'natural_images/'\n",
    "f = root + 'natimg2800_M170714_MP032_2017-09-14.mat'\n",
    "f2 = root + 'stimuli_class_assignment_confident.mat'\n",
    "f3 = root + 'images_natimg2800_all.mat'\n",
    "dat = sp.io.loadmat(f)\n",
    "\n",
    "f3 = sp.io.loadmat(f3)\n",
    "imgs = f3['imgs']\n",
    "\n",
    "\n",
    "# classes maps stim id to a class\n",
    "\n",
    "m2 = sp.io.loadmat(f2)\n",
    "classes = m2['class_assignment'][0]\n",
    "class_names = m2['class_names']\n",
    "\n",
    "\n",
    "\n",
    "resp = dat['stim'][0]['resp'][0] # stim x neurons\n",
    "spont = dat['stim'][0]['spont'][0] # timepts x neurons\n",
    "istim = (dat['stim'][0]['istim'][0]).astype(np.int32) # stim ids\n",
    "istim -= 1 # get out of MATLAB convention\n",
    "\n",
    "# stim is preprocessed\n",
    "istim = istim[:,0]\n",
    "nimg = istim.max() # these are blank stims (exclude them)\n",
    "resp = resp[istim<nimg, :]\n",
    "istim = istim[istim<nimg]\n",
    "\n",
    "# subtract spont (32D)\n",
    "mu = spont.mean(axis=0)\n",
    "sd = spont.std(axis=0) + 1e-6\n",
    "resp = (resp - mu) / sd\n",
    "spont = (spont - mu) / sd\n",
    "sv,u = eigsh(spont.T @ spont, k=32)\n",
    "resp = resp - (resp @ u) @ u.T\n",
    "\n",
    "# mean center each neuron\n",
    "resp -= resp.mean(axis=0)\n",
    "resp = resp / (resp.std(axis = 0)+1e-6)\n",
    "\n",
    "\n",
    "\n",
    "# get classes\n",
    "class_stim = classes[istim]\n",
    "\n",
    "\n",
    "# which experimental trials belong to which category\n",
    "inds1 = [i for i in range(len(class_stim)) if class_stim[i] == 1]\n",
    "inds2 = [i for i in range(len(class_stim)) if class_stim[i] == 7]\n",
    "inds_12 = inds1 + inds2\n",
    "\n",
    "# which images belong to which category\n",
    "imgs_inds1 = [i for i in range(len(classes)) if classes[i] == 1]\n",
    "imgs_inds2 = [i for i in range(len(classes)) if classes[i] == 7]\n",
    "\n",
    "SEED = 42\n",
    "np.random.seed(SEED)\n",
    "A = imgs[:, 90:180, imgs_inds1]\n",
    "B = imgs[:, 90:180, imgs_inds2]\n",
    "\n",
    "y = class_stim[inds_12]\n",
    "a = np.amin(y)\n",
    "b = np.amax(y)\n",
    "\n",
    "y = 2/(b-a)*(y-np.mean([a,b]))\n",
    "\n",
    "fontsize = 6\n",
    "myaxis_font=8\n",
    "line_width= 1\n",
    "plt.rcParams.update({'font.size': fontsize})\n",
    "resp_12 = resp[inds_12,:]"
   ]
  },
  {
   "cell_type": "markdown",
   "metadata": {},
   "source": [
    "### Reproduce Pehlevan et al"
   ]
  },
  {
   "cell_type": "code",
   "execution_count": null,
   "metadata": {},
   "outputs": [],
   "source": [
    "K, s, v = sorted_spectral_decomp(resp_12)\n",
    "plot_top_2_eigenvectors(v, y, fig_name='top_2_eigenvectors_reproduced.pdf', title_postfix=' (Reproduced)', fig_dir='./ann_figures/')"
   ]
  },
  {
   "cell_type": "code",
   "execution_count": null,
   "metadata": {},
   "outputs": [],
   "source": [
    "plot_power(v, y, fig_name='power_reproduced.pdf', title_postfix=' (Reproduced)', fig_dir='./ann_figures/')"
   ]
  },
  {
   "cell_type": "code",
   "execution_count": null,
   "metadata": {},
   "outputs": [],
   "source": [
    "plot_3d_projected_response(resp_12.T, fig_name='3d_projection_population_codes.pdf', title_postfix=' in Mice')"
   ]
  },
  {
   "cell_type": "markdown",
   "metadata": {},
   "source": [
    "### ANN Kernel"
   ]
  },
  {
   "cell_type": "code",
   "execution_count": null,
   "metadata": {},
   "outputs": [],
   "source": [
    "margins = []\n",
    "\n",
    "for n_neurons in [2, 8, 32, 128]:\n",
    "\n",
    "    activations = compute_mlp_activations(resp_12, y, n_neurons)\n",
    "    K, s, v = sorted_spectral_decomp(activations)\n",
    "    plot_top_2_eigenvectors(v, y, fig_name=f'top_2_eigenvectors_ann_{n_neurons}_neurons.pdf', title_postfix=f' (ANN, {n_neurons} Neurons)')\n",
    "    plot_power(v, y, fig_name=f'power_ann_{n_neurons}_neurons.pdf', title_postfix=f' (ANN, {n_neurons} Neurons)')\n",
    "\n",
    "\n",
    "    X = v[:, :2]  # Top two eigenvectors\n",
    "    margin = compute_margin(X, y)  # Compute margin\n",
    "    margins.append(margin)"
   ]
  },
  {
   "cell_type": "code",
   "execution_count": null,
   "metadata": {},
   "outputs": [],
   "source": [
    "for n_neurons, margin in zip([2, 8, 32, 128], margins):\n",
    "    print(f\"Margin for {n_neurons} neurons: {margin:.3f}\")"
   ]
  },
  {
   "cell_type": "code",
   "execution_count": null,
   "metadata": {},
   "outputs": [],
   "source": [
    "activations = compute_mlp_activations(resp_12, y, 32)\n",
    "plot_3d_projected_response(activations.T, fig_name='3d_projection_ann_codes.pdf', title_postfix=' in ANN Kernel', fig_dir='./ann_figures/')"
   ]
  },
  {
   "cell_type": "markdown",
   "metadata": {},
   "source": [
    "### SNN Kernel"
   ]
  },
  {
   "cell_type": "code",
   "execution_count": 9,
   "metadata": {},
   "outputs": [],
   "source": [
    "from snn import SNN\n",
    "\n",
    "N = resp_12.shape[1]  # Number of neurons\n",
    "P = 100 # Number of patterns to use\n",
    "\n",
    "# Normalize input data to [0, 1] for rate coding\n",
    "samples = np.random.choice(np.arange(resp_12.shape[0]), P, replace=False)\n",
    "responses = resp_12.copy()[samples, :]\n",
    "y_class = y[samples]\n",
    "rates = (responses - np.min(responses)) / (np.max(responses) - np.min(responses))\n",
    "\n",
    "\n",
    "# Originally 784\n",
    "n_input = N # input layer (one neuron per image pixel)\n",
    "n_e = 128 # excitatory neurons\n",
    "n_i = n_e # inhibitory neurons\n"
   ]
  },
  {
   "cell_type": "code",
   "execution_count": null,
   "metadata": {},
   "outputs": [],
   "source": [
    "from brian2 import *\n",
    "from snn_plotting import *\n",
    "from utils import plot_kernel\n",
    "\n",
    "def pre_test(neurons, train_items=50):\n",
    "  '''\n",
    "  function used to test the learning on a small training set (10) and visualize the output.\n",
    "  '''\n",
    "  seed()\n",
    "\n",
    "  network = SNN(neurons, n_input=n_input, n_e=n_e, n_i=n_i)\n",
    "  network.train(rates[:train_items])\n",
    "  visualize(network, neurons)\n",
    "  return network\n",
    "\n",
    "neurons = np.random.randint(n_e, size=4)  # neurons to track\n",
    "\n",
    "\n",
    "neurons = np.random.randint(n_e, size=4)  # Randomly select neurons to track\n",
    "print(\"Selected neurons:\", neurons)\n",
    "# Loop over different training sizes\n",
    "for P in [10, 25, 50, 100]:\n",
    "    print(f\"Running simulation for P = {P}...\")\n",
    "\n",
    "    # Normalize input data to [0, 1] for rate coding\n",
    "    samples = np.random.choice(np.arange(resp_12.shape[0]), P, replace=False)\n",
    "    responses = resp_12.copy()[samples, :]\n",
    "    y_class = y[samples]\n",
    "    rates = (responses - np.min(responses)) / (np.max(responses) - np.min(responses))\n",
    "\n",
    "\n",
    "\n",
    "    # Pre-test and train the network\n",
    "    network = pre_test(neurons, train_items=P)\n",
    "\n",
    "    print('Presenting labels to network...')\n",
    "    f_train = network.evaluate(rates)\n",
    "    f_train = np.array(f_train)\n",
    "\n",
    "    # Perform spectral decomposition\n",
    "    K, s, v = sorted_spectral_decomp(f_train)\n",
    "\n",
    "    # Plot results\n",
    "    plot_top_2_eigenvectors(\n",
    "       v, \n",
    "       y_class, \n",
    "       fig_name=f'top_2_eigenvectors_snn_{P}_patterns.pdf', \n",
    "       title_postfix=f' (SNN, {P} Patterns)',\n",
    "       fig_dir='./snn_figures/'\n",
    "    )\n",
    "    plot_power(\n",
    "       v, \n",
    "       y_class, \n",
    "       fig_name=f'power_snn_{P}_patterns.pdf', \n",
    "       title_postfix=f' (SNN, {P} Patterns)',\n",
    "       fig_dir='./snn_figures/'\n",
    "    )\n",
    "    plot_3d_projected_response(\n",
    "        f_train.T,\n",
    "        fig_name=f'3d_projection_snn_codes_{P}_patterns.pdf',\n",
    "        title_postfix=f' in SNN Kernel with {P} Patterns',\n",
    "        fig_dir='./snn_figures/'\n",
    "    )\n",
    "    plot_kernel(\n",
    "        K,\n",
    "        fig_name=f'kernel_snn_{P}_patterns.pdf',\n",
    "        title_postfix=f' in SNN Kernel with {P} Patterns',\n",
    "        fig_dir='./snn_figures/'\n",
    "    )"
   ]
  },
  {
   "cell_type": "code",
   "execution_count": null,
   "metadata": {},
   "outputs": [],
   "source": [
    "f_train.shape"
   ]
  },
  {
   "cell_type": "markdown",
   "metadata": {},
   "source": []
  },
  {
   "cell_type": "markdown",
   "metadata": {},
   "source": []
  }
 ],
 "metadata": {
  "kernelspec": {
   "display_name": "am226",
   "language": "python",
   "name": "python3"
  },
  "language_info": {
   "codemirror_mode": {
    "name": "ipython",
    "version": 3
   },
   "file_extension": ".py",
   "mimetype": "text/x-python",
   "name": "python",
   "nbconvert_exporter": "python",
   "pygments_lexer": "ipython3",
   "version": "3.11.10"
  }
 },
 "nbformat": 4,
 "nbformat_minor": 2
}
